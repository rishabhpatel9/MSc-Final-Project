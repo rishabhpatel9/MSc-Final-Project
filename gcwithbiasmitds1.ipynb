{
 "cells": [
  {
   "cell_type": "code",
   "execution_count": 1,
   "metadata": {},
   "outputs": [
    {
     "name": "stderr",
     "output_type": "stream",
     "text": [
      "2023-08-05 08:43:54.705096: I tensorflow/core/platform/cpu_feature_guard.cc:182] This TensorFlow binary is optimized to use available CPU instructions in performance-critical operations.\n",
      "To enable the following instructions: AVX2 FMA, in other operations, rebuild TensorFlow with the appropriate compiler flags.\n",
      "2023-08-05 08:43:55.244922: W tensorflow/compiler/tf2tensorrt/utils/py_utils.cc:38] TF-TRT Warning: Could not find TensorRT\n",
      "WARNING:root:No module named 'tempeh': LawSchoolGPADataset will be unavailable. To install, run:\n",
      "pip install 'aif360[LawSchoolGPA]'\n",
      "WARNING:root:No module named 'fairlearn': ExponentiatedGradientReduction will be unavailable. To install, run:\n",
      "pip install 'aif360[Reductions]'\n",
      "WARNING:root:No module named 'fairlearn': GridSearchReduction will be unavailable. To install, run:\n",
      "pip install 'aif360[Reductions]'\n",
      "WARNING:root:No module named 'fairlearn': GridSearchReduction will be unavailable. To install, run:\n",
      "pip install 'aif360[Reductions]'\n"
     ]
    }
   ],
   "source": [
    "import numpy as np\n",
    "import pandas as pd\n",
    "import cv2\n",
    "import os\n",
    "import matplotlib.pyplot as plt\n",
    "from sklearn.model_selection import train_test_split\n",
    "from sklearn.metrics import accuracy_score, confusion_matrix, precision_score, recall_score\n",
    "import tensorflow as tf\n",
    "from tensorflow.keras.models import Sequential # type: ignore\n",
    "from tensorflow.keras.layers import Conv2D, MaxPooling2D, Flatten, Dense, Dropout # type: ignore\n",
    "from tensorflow.keras.callbacks import EarlyStopping # type: ignore\n",
    "from aif360.datasets import BinaryLabelDataset\n",
    "from aif360.metrics import BinaryLabelDatasetMetric, ClassificationMetric\n",
    "from aif360.algorithms.preprocessing import Reweighing"
   ]
  },
  {
   "cell_type": "code",
   "execution_count": 2,
   "metadata": {},
   "outputs": [
    {
     "name": "stderr",
     "output_type": "stream",
     "text": [
      "2023-08-05 08:43:55.764766: I tensorflow/compiler/xla/stream_executor/cuda/cuda_gpu_executor.cc:996] successful NUMA node read from SysFS had negative value (-1), but there must be at least one NUMA node, so returning NUMA node zero. See more at https://github.com/torvalds/linux/blob/v6.0/Documentation/ABI/testing/sysfs-bus-pci#L344-L355\n",
      "2023-08-05 08:43:55.780925: I tensorflow/compiler/xla/stream_executor/cuda/cuda_gpu_executor.cc:996] successful NUMA node read from SysFS had negative value (-1), but there must be at least one NUMA node, so returning NUMA node zero. See more at https://github.com/torvalds/linux/blob/v6.0/Documentation/ABI/testing/sysfs-bus-pci#L344-L355\n",
      "2023-08-05 08:43:55.781090: I tensorflow/compiler/xla/stream_executor/cuda/cuda_gpu_executor.cc:996] successful NUMA node read from SysFS had negative value (-1), but there must be at least one NUMA node, so returning NUMA node zero. See more at https://github.com/torvalds/linux/blob/v6.0/Documentation/ABI/testing/sysfs-bus-pci#L344-L355\n"
     ]
    }
   ],
   "source": [
    "#limit VRAM usage\n",
    "gpus = tf.config.experimental.list_physical_devices('GPU')\n",
    "for gpu in gpus:\n",
    "    tf.config.experimental.set_memory_growth(gpu, True)"
   ]
  },
  {
   "cell_type": "code",
   "execution_count": 3,
   "metadata": {},
   "outputs": [],
   "source": [
    "#Load the dataset and create a dataframe with image paths and labels\n",
    "dataset_path = \"datasets/dataset1/data/\"\n",
    "images = []\n",
    "labels = []\n",
    "for folder in os.listdir(dataset_path):\n",
    "    if os.path.isdir(os.path.join(dataset_path, folder)):\n",
    "        for file in os.listdir(os.path.join(dataset_path, folder)):\n",
    "            if file.endswith(\".jpg\"):\n",
    "                images.append(os.path.join(dataset_path, folder, file))\n",
    "                labels.append(folder)\n",
    "df = pd.DataFrame({\"image\": images, \"label\": labels})"
   ]
  },
  {
   "cell_type": "code",
   "execution_count": 4,
   "metadata": {},
   "outputs": [],
   "source": [
    "#Load the validation set and create a dataframe with image paths and labels\n",
    "validation_path = \"datasets/dataset1/validation/\"\n",
    "images = []\n",
    "labels = []\n",
    "for folder in os.listdir(dataset_path):\n",
    "    if os.path.isdir(os.path.join(dataset_path, folder)):\n",
    "        for file in os.listdir(os.path.join(dataset_path, folder)):\n",
    "            if file.endswith(\".jpg\"):\n",
    "                images.append(os.path.join(dataset_path, folder, file))\n",
    "                labels.append(folder)\n",
    "vf = pd.DataFrame({\"image\": images, \"label\": labels})"
   ]
  },
  {
   "cell_type": "code",
   "execution_count": 5,
   "metadata": {},
   "outputs": [],
   "source": [
    "#Define a function to preprocess the images: resize, grayscale, histogram equalization\n",
    "def preprocess_image(image_path):\n",
    "  image = cv2.imread(image_path)\n",
    "  image = cv2.resize(image, (64, 64))\n",
    "  image = cv2.cvtColor(image, cv2.COLOR_BGR2GRAY)\n",
    "  image = cv2.equalizeHist(image)\n",
    "  image = image / 255.0\n",
    "  image = np.expand_dims(image, axis=2)\n",
    "  return image"
   ]
  },
  {
   "cell_type": "code",
   "execution_count": 6,
   "metadata": {},
   "outputs": [],
   "source": [
    "#Apply the preprocessing function to the images and convert the labels to numeric values\n",
    "X_train = np.array([preprocess_image(image) for image in df[\"image\"]])\n",
    "y_train = np.array([0 if label == \"male\" else 1 for label in df[\"label\"]])\n",
    "\n",
    "X_test = np.array([preprocess_image(image) for image in vf[\"image\"]])\n",
    "y_test = np.array([0 if label == \"male\" else 1 for label in vf[\"label\"]])"
   ]
  },
  {
   "cell_type": "code",
   "execution_count": 8,
   "metadata": {},
   "outputs": [],
   "source": [
    "#Create a binary label dataset from the train set for aif360\n",
    "train_df = pd.DataFrame(X_train.reshape(-1, 64*64))\n",
    "train_df[\"label\"] = y_train\n",
    "train_df[\"gender\"] = 0\n",
    "train_dataset = BinaryLabelDataset(favorable_label=1, unfavorable_label=0, df=train_df, label_names=[\"label\"], protected_attribute_names=[\"gender\"], unprivileged_protected_attributes=[0])"
   ]
  },
  {
   "cell_type": "code",
   "execution_count": 9,
   "metadata": {},
   "outputs": [
    {
     "name": "stdout",
     "output_type": "stream",
     "text": [
      "Disparate impact: nan\n",
      "Statistical parity difference: nan\n"
     ]
    },
    {
     "name": "stderr",
     "output_type": "stream",
     "text": [
      "/home/megatron/miniconda3/envs/tf/lib/python3.9/site-packages/aif360/metrics/binary_label_dataset_metric.py:105: RuntimeWarning: invalid value encountered in double_scalars\n",
      "  return (self.num_positives(privileged=privileged)\n"
     ]
    }
   ],
   "source": [
    "#Compute the disparate impact and statistical parity difference metrics for the train set\n",
    "metric_dataset = BinaryLabelDatasetMetric(train_dataset, unprivileged_groups=[{\"gender\": 0}], privileged_groups=[{\"gender\": 1}])\n",
    "print(\"Disparate impact:\", metric_dataset.disparate_impact())\n",
    "print(\"Statistical parity difference:\", metric_dataset.statistical_parity_difference())"
   ]
  },
  {
   "cell_type": "code",
   "execution_count": 10,
   "metadata": {},
   "outputs": [
    {
     "name": "stderr",
     "output_type": "stream",
     "text": [
      "/home/megatron/miniconda3/envs/tf/lib/python3.9/site-packages/aif360/algorithms/preprocessing/reweighing.py:66: RuntimeWarning: invalid value encountered in double_scalars\n",
      "  self.w_p_fav = n_fav*n_p / (n*n_p_fav)\n",
      "/home/megatron/miniconda3/envs/tf/lib/python3.9/site-packages/aif360/algorithms/preprocessing/reweighing.py:67: RuntimeWarning: invalid value encountered in double_scalars\n",
      "  self.w_p_unfav = n_unfav*n_p / (n*n_p_unfav)\n"
     ]
    },
    {
     "name": "stdout",
     "output_type": "stream",
     "text": [
      "Disparate impact after reweighing: nan\n",
      "Statistical parity difference after reweighing: nan\n"
     ]
    }
   ],
   "source": [
    "#Apply the reweighing algorithm to mitigate bias in the training set\n",
    "RW = Reweighing(unprivileged_groups=[{\"gender\": 0}], privileged_groups=[{\"gender\": 1}])\n",
    "train_dataset_rw = RW.fit_transform(train_dataset)\n",
    "\n",
    "#Compute the metrics for the reweighted train set\n",
    "metric_dataset_rw = BinaryLabelDatasetMetric(train_dataset_rw, unprivileged_groups=[{\"gender\": 0}], privileged_groups=[{\"gender\": 1}])\n",
    "print(\"Disparate impact after reweighing:\", metric_dataset_rw.disparate_impact())\n",
    "print(\"Statistical parity difference after reweighing:\", metric_dataset_rw.statistical_parity_difference())\n"
   ]
  },
  {
   "cell_type": "code",
   "execution_count": 11,
   "metadata": {},
   "outputs": [
    {
     "name": "stdout",
     "output_type": "stream",
     "text": [
      "(47009, 4097)\n",
      "192595873\n"
     ]
    }
   ],
   "source": [
    "print(train_dataset_rw.features.shape)\n",
    "print(train_dataset_rw.features.size)"
   ]
  },
  {
   "cell_type": "code",
   "execution_count": 12,
   "metadata": {},
   "outputs": [],
   "source": [
    "#Extract the features and labels from the reweighted train set\n",
    "X_train_rw = train_dataset_rw.features[:, :-1].reshape(-1, 64, 64, 1)\n",
    "y_train_rw = train_dataset_rw.labels.ravel()"
   ]
  },
  {
   "cell_type": "code",
   "execution_count": 13,
   "metadata": {},
   "outputs": [
    {
     "name": "stdout",
     "output_type": "stream",
     "text": [
      "Model: \"sequential\"\n",
      "_________________________________________________________________\n",
      " Layer (type)                Output Shape              Param #   \n",
      "=================================================================\n",
      " conv2d (Conv2D)             (None, 62, 62, 32)        320       \n",
      "                                                                 \n",
      " max_pooling2d (MaxPooling2D  (None, 31, 31, 32)       0         \n",
      " )                                                               \n",
      "                                                                 \n",
      " conv2d_1 (Conv2D)           (None, 29, 29, 64)        18496     \n",
      "                                                                 \n",
      " max_pooling2d_1 (MaxPooling  (None, 14, 14, 64)       0         \n",
      " 2D)                                                             \n",
      "                                                                 \n",
      " conv2d_2 (Conv2D)           (None, 12, 12, 128)       73856     \n",
      "                                                                 \n",
      " max_pooling2d_2 (MaxPooling  (None, 6, 6, 128)        0         \n",
      " 2D)                                                             \n",
      "                                                                 \n",
      " flatten (Flatten)           (None, 4608)              0         \n",
      "                                                                 \n",
      " dense (Dense)               (None, 256)               1179904   \n",
      "                                                                 \n",
      " dropout (Dropout)           (None, 256)               0         \n",
      "                                                                 \n",
      " dense_1 (Dense)             (None, 1)                 257       \n",
      "                                                                 \n",
      "=================================================================\n",
      "Total params: 1,272,833\n",
      "Trainable params: 1,272,833\n",
      "Non-trainable params: 0\n",
      "_________________________________________________________________\n"
     ]
    },
    {
     "name": "stderr",
     "output_type": "stream",
     "text": [
      "2023-08-05 08:44:43.658280: I tensorflow/compiler/xla/stream_executor/cuda/cuda_gpu_executor.cc:996] successful NUMA node read from SysFS had negative value (-1), but there must be at least one NUMA node, so returning NUMA node zero. See more at https://github.com/torvalds/linux/blob/v6.0/Documentation/ABI/testing/sysfs-bus-pci#L344-L355\n",
      "2023-08-05 08:44:43.658517: I tensorflow/compiler/xla/stream_executor/cuda/cuda_gpu_executor.cc:996] successful NUMA node read from SysFS had negative value (-1), but there must be at least one NUMA node, so returning NUMA node zero. See more at https://github.com/torvalds/linux/blob/v6.0/Documentation/ABI/testing/sysfs-bus-pci#L344-L355\n",
      "2023-08-05 08:44:43.658674: I tensorflow/compiler/xla/stream_executor/cuda/cuda_gpu_executor.cc:996] successful NUMA node read from SysFS had negative value (-1), but there must be at least one NUMA node, so returning NUMA node zero. See more at https://github.com/torvalds/linux/blob/v6.0/Documentation/ABI/testing/sysfs-bus-pci#L344-L355\n",
      "2023-08-05 08:44:43.949690: I tensorflow/compiler/xla/stream_executor/cuda/cuda_gpu_executor.cc:996] successful NUMA node read from SysFS had negative value (-1), but there must be at least one NUMA node, so returning NUMA node zero. See more at https://github.com/torvalds/linux/blob/v6.0/Documentation/ABI/testing/sysfs-bus-pci#L344-L355\n",
      "2023-08-05 08:44:43.949854: I tensorflow/compiler/xla/stream_executor/cuda/cuda_gpu_executor.cc:996] successful NUMA node read from SysFS had negative value (-1), but there must be at least one NUMA node, so returning NUMA node zero. See more at https://github.com/torvalds/linux/blob/v6.0/Documentation/ABI/testing/sysfs-bus-pci#L344-L355\n",
      "2023-08-05 08:44:43.949990: I tensorflow/compiler/xla/stream_executor/cuda/cuda_gpu_executor.cc:996] successful NUMA node read from SysFS had negative value (-1), but there must be at least one NUMA node, so returning NUMA node zero. See more at https://github.com/torvalds/linux/blob/v6.0/Documentation/ABI/testing/sysfs-bus-pci#L344-L355\n",
      "2023-08-05 08:44:43.950080: I tensorflow/core/common_runtime/gpu/gpu_device.cc:1635] Created device /job:localhost/replica:0/task:0/device:GPU:0 with 5965 MB memory:  -> device: 0, name: NVIDIA GeForce RTX 3080, pci bus id: 0000:07:00.0, compute capability: 8.6\n"
     ]
    }
   ],
   "source": [
    "model = Sequential()\n",
    "\n",
    "model.add(Conv2D(32, (3, 3), activation=\"relu\", input_shape=(64, 64, 1)))\n",
    "model.add(MaxPooling2D((2, 2)))\n",
    "\n",
    "model.add(Conv2D(64, (3, 3), activation=\"relu\"))\n",
    "model.add(MaxPooling2D((2, 2)))\n",
    "\n",
    "model.add(Conv2D(128, (3, 3), activation=\"relu\"))\n",
    "model.add(MaxPooling2D((2, 2)))\n",
    "\n",
    "model.add(Flatten())\n",
    "\n",
    "model.add(Dense(256, activation=\"relu\"))\n",
    "model.add(Dropout(0.5))\n",
    "model.add(Dense(1, activation=\"sigmoid\"))\n",
    "model.summary()"
   ]
  },
  {
   "cell_type": "code",
   "execution_count": 14,
   "metadata": {},
   "outputs": [
    {
     "name": "stdout",
     "output_type": "stream",
     "text": [
      "Epoch 1/50\n"
     ]
    },
    {
     "name": "stderr",
     "output_type": "stream",
     "text": [
      "2023-08-05 08:44:45.824275: I tensorflow/compiler/xla/stream_executor/cuda/cuda_dnn.cc:424] Loaded cuDNN version 8600\n",
      "2023-08-05 08:44:46.343703: I tensorflow/compiler/xla/stream_executor/cuda/cuda_blas.cc:637] TensorFloat-32 will be used for the matrix multiplication. This will only be logged once.\n",
      "2023-08-05 08:44:46.346664: I tensorflow/compiler/xla/service/service.cc:169] XLA service 0x7f281804da50 initialized for platform CUDA (this does not guarantee that XLA will be used). Devices:\n",
      "2023-08-05 08:44:46.346682: I tensorflow/compiler/xla/service/service.cc:177]   StreamExecutor device (0): NVIDIA GeForce RTX 3080, Compute Capability 8.6\n",
      "2023-08-05 08:44:46.350091: I tensorflow/compiler/mlir/tensorflow/utils/dump_mlir_util.cc:269] disabling MLIR crash reproducer, set env var `MLIR_CRASH_REPRODUCER_DIRECTORY` to enable.\n",
      "2023-08-05 08:44:46.458743: I ./tensorflow/compiler/jit/device_compiler.h:180] Compiled cluster using XLA!  This line is logged at most once for the lifetime of the process.\n"
     ]
    },
    {
     "name": "stdout",
     "output_type": "stream",
     "text": [
      "1470/1470 [==============================] - 9s 4ms/step - loss: 0.2490 - accuracy: 0.8941 - val_loss: 0.1487 - val_accuracy: 0.9474\n",
      "Epoch 2/50\n",
      "1470/1470 [==============================] - 5s 3ms/step - loss: 0.1545 - accuracy: 0.9442 - val_loss: 0.1267 - val_accuracy: 0.9545\n",
      "Epoch 3/50\n",
      "1470/1470 [==============================] - 5s 3ms/step - loss: 0.1319 - accuracy: 0.9532 - val_loss: 0.1046 - val_accuracy: 0.9626\n",
      "Epoch 4/50\n",
      "1470/1470 [==============================] - 5s 3ms/step - loss: 0.1189 - accuracy: 0.9583 - val_loss: 0.0903 - val_accuracy: 0.9705\n",
      "Epoch 5/50\n",
      "1470/1470 [==============================] - 5s 3ms/step - loss: 0.1073 - accuracy: 0.9626 - val_loss: 0.0827 - val_accuracy: 0.9711\n",
      "Epoch 6/50\n",
      "1470/1470 [==============================] - 5s 3ms/step - loss: 0.0981 - accuracy: 0.9660 - val_loss: 0.0788 - val_accuracy: 0.9723\n",
      "Epoch 7/50\n",
      "1470/1470 [==============================] - 5s 3ms/step - loss: 0.0892 - accuracy: 0.9683 - val_loss: 0.0633 - val_accuracy: 0.9781\n",
      "Epoch 8/50\n",
      "1470/1470 [==============================] - 5s 3ms/step - loss: 0.0778 - accuracy: 0.9716 - val_loss: 0.0542 - val_accuracy: 0.9809\n",
      "Epoch 9/50\n",
      "1470/1470 [==============================] - 5s 3ms/step - loss: 0.0697 - accuracy: 0.9747 - val_loss: 0.0522 - val_accuracy: 0.9820\n",
      "Epoch 10/50\n",
      "1470/1470 [==============================] - 5s 3ms/step - loss: 0.0594 - accuracy: 0.9783 - val_loss: 0.0397 - val_accuracy: 0.9862\n",
      "Epoch 11/50\n",
      "1470/1470 [==============================] - 5s 3ms/step - loss: 0.0529 - accuracy: 0.9796 - val_loss: 0.0380 - val_accuracy: 0.9860\n",
      "Epoch 12/50\n",
      "1470/1470 [==============================] - 5s 3ms/step - loss: 0.0463 - accuracy: 0.9830 - val_loss: 0.0271 - val_accuracy: 0.9906\n",
      "Epoch 13/50\n",
      "1470/1470 [==============================] - 5s 3ms/step - loss: 0.0419 - accuracy: 0.9842 - val_loss: 0.0235 - val_accuracy: 0.9917\n",
      "Epoch 14/50\n",
      "1470/1470 [==============================] - 5s 3ms/step - loss: 0.0381 - accuracy: 0.9862 - val_loss: 0.0217 - val_accuracy: 0.9915\n",
      "Epoch 15/50\n",
      "1470/1470 [==============================] - 5s 3ms/step - loss: 0.0341 - accuracy: 0.9871 - val_loss: 0.0176 - val_accuracy: 0.9936\n",
      "Epoch 16/50\n",
      "1470/1470 [==============================] - 5s 3ms/step - loss: 0.0303 - accuracy: 0.9888 - val_loss: 0.0153 - val_accuracy: 0.9954\n",
      "Epoch 17/50\n",
      "1470/1470 [==============================] - 5s 3ms/step - loss: 0.0309 - accuracy: 0.9887 - val_loss: 0.0162 - val_accuracy: 0.9945\n",
      "Epoch 18/50\n",
      "1470/1470 [==============================] - 5s 3ms/step - loss: 0.0266 - accuracy: 0.9900 - val_loss: 0.0264 - val_accuracy: 0.9903\n",
      "Epoch 19/50\n",
      "1470/1470 [==============================] - 5s 3ms/step - loss: 0.0280 - accuracy: 0.9900 - val_loss: 0.0138 - val_accuracy: 0.9957\n",
      "Epoch 20/50\n",
      "1470/1470 [==============================] - 5s 3ms/step - loss: 0.0231 - accuracy: 0.9919 - val_loss: 0.0072 - val_accuracy: 0.9975\n",
      "Epoch 21/50\n",
      "1470/1470 [==============================] - 5s 3ms/step - loss: 0.0247 - accuracy: 0.9914 - val_loss: 0.0082 - val_accuracy: 0.9973\n",
      "Epoch 22/50\n",
      "1470/1470 [==============================] - 5s 3ms/step - loss: 0.0223 - accuracy: 0.9918 - val_loss: 0.0160 - val_accuracy: 0.9947\n",
      "Epoch 23/50\n",
      "1470/1470 [==============================] - 5s 3ms/step - loss: 0.0216 - accuracy: 0.9919 - val_loss: 0.0092 - val_accuracy: 0.9970\n",
      "Epoch 24/50\n",
      "1470/1470 [==============================] - 5s 3ms/step - loss: 0.0211 - accuracy: 0.9923 - val_loss: 0.0161 - val_accuracy: 0.9946\n",
      "Epoch 25/50\n",
      "1470/1470 [==============================] - 5s 3ms/step - loss: 0.0201 - accuracy: 0.9933 - val_loss: 0.0072 - val_accuracy: 0.9977\n",
      "Epoch 26/50\n",
      "1470/1470 [==============================] - 5s 3ms/step - loss: 0.0181 - accuracy: 0.9934 - val_loss: 0.0187 - val_accuracy: 0.9932\n",
      "Epoch 27/50\n",
      "1470/1470 [==============================] - 5s 3ms/step - loss: 0.0213 - accuracy: 0.9922 - val_loss: 0.0071 - val_accuracy: 0.9976\n",
      "Epoch 28/50\n",
      "1470/1470 [==============================] - 5s 3ms/step - loss: 0.0150 - accuracy: 0.9945 - val_loss: 0.0064 - val_accuracy: 0.9977\n",
      "Epoch 29/50\n",
      "1470/1470 [==============================] - 5s 3ms/step - loss: 0.0196 - accuracy: 0.9936 - val_loss: 0.0045 - val_accuracy: 0.9986\n",
      "Epoch 30/50\n",
      "1470/1470 [==============================] - 5s 3ms/step - loss: 0.0206 - accuracy: 0.9929 - val_loss: 0.0111 - val_accuracy: 0.9957\n",
      "Epoch 31/50\n",
      "1470/1470 [==============================] - 5s 3ms/step - loss: 0.0167 - accuracy: 0.9943 - val_loss: 0.0041 - val_accuracy: 0.9989\n",
      "Epoch 32/50\n",
      "1470/1470 [==============================] - 5s 3ms/step - loss: 0.0138 - accuracy: 0.9951 - val_loss: 0.0033 - val_accuracy: 0.9991\n",
      "Epoch 33/50\n",
      "1470/1470 [==============================] - 5s 3ms/step - loss: 0.0166 - accuracy: 0.9942 - val_loss: 0.0068 - val_accuracy: 0.9978\n",
      "Epoch 34/50\n",
      "1470/1470 [==============================] - 5s 3ms/step - loss: 0.0168 - accuracy: 0.9940 - val_loss: 0.0028 - val_accuracy: 0.9992\n",
      "Epoch 35/50\n",
      "1470/1470 [==============================] - 5s 3ms/step - loss: 0.0151 - accuracy: 0.9952 - val_loss: 0.0055 - val_accuracy: 0.9982\n",
      "Epoch 36/50\n",
      "1470/1470 [==============================] - 5s 3ms/step - loss: 0.0167 - accuracy: 0.9943 - val_loss: 0.0059 - val_accuracy: 0.9981\n",
      "Epoch 37/50\n",
      "1470/1470 [==============================] - 5s 3ms/step - loss: 0.0166 - accuracy: 0.9940 - val_loss: 0.0054 - val_accuracy: 0.9983\n",
      "Epoch 38/50\n",
      "1470/1470 [==============================] - 5s 3ms/step - loss: 0.0162 - accuracy: 0.9945 - val_loss: 0.0061 - val_accuracy: 0.9977\n",
      "Epoch 39/50\n",
      "1470/1470 [==============================] - 5s 3ms/step - loss: 0.0139 - accuracy: 0.9953 - val_loss: 0.0017 - val_accuracy: 0.9996\n",
      "Epoch 40/50\n",
      "1470/1470 [==============================] - 5s 3ms/step - loss: 0.0140 - accuracy: 0.9950 - val_loss: 0.0023 - val_accuracy: 0.9994\n",
      "Epoch 41/50\n",
      "1470/1470 [==============================] - 5s 3ms/step - loss: 0.0155 - accuracy: 0.9951 - val_loss: 0.0023 - val_accuracy: 0.9995\n",
      "Epoch 42/50\n",
      "1470/1470 [==============================] - 5s 3ms/step - loss: 0.0140 - accuracy: 0.9948 - val_loss: 0.0032 - val_accuracy: 0.9989\n",
      "Epoch 43/50\n",
      "1470/1470 [==============================] - 5s 3ms/step - loss: 0.0142 - accuracy: 0.9953 - val_loss: 0.0056 - val_accuracy: 0.9983\n",
      "Epoch 44/50\n",
      "1470/1470 [==============================] - 5s 3ms/step - loss: 0.0137 - accuracy: 0.9952 - val_loss: 0.0026 - val_accuracy: 0.9993\n"
     ]
    }
   ],
   "source": [
    "#Compile and fit the model on the reweighted train set\n",
    "model.compile(optimizer=\"adam\", loss=\"binary_crossentropy\", metrics=[\"accuracy\"])\n",
    "early_stopping = EarlyStopping(monitor=\"val_loss\", patience=5)\n",
    "history = model.fit(X_train_rw, y_train_rw, batch_size=32, epochs=50, validation_data=(X_test, y_test), callbacks=[early_stopping])"
   ]
  },
  {
   "cell_type": "code",
   "execution_count": 15,
   "metadata": {},
   "outputs": [
    {
     "data": {
      "image/png": "[encoded data removed]",
      "text/plain": [
       "<Figure size 1200x600 with 2 Axes>"
      ]
     },
     "metadata": {},
     "output_type": "display_data"
    }
   ],
   "source": [
    "#Plot the training and validation accuracy and loss curves\n",
    "plt.figure(figsize=(12,6))\n",
    "plt.subplot(1,2,1)\n",
    "plt.plot(history.history[\"accuracy\"], label=\"train accuracy\")\n",
    "plt.plot(history.history[\"val_accuracy\"], label=\"validation accuracy\")\n",
    "plt.xlabel(\"Epoch\")\n",
    "plt.ylabel(\"Accuracy\")\n",
    "plt.legend()\n",
    "plt.subplot(1,2,2)\n",
    "plt.plot(history.history[\"loss\"], label=\"train loss\")\n",
    "plt.plot(history.history[\"val_loss\"], label=\"validation loss\")\n",
    "plt.xlabel(\"Epoch\")\n",
    "plt.ylabel(\"Loss\")\n",
    "plt.legend()\n",
    "plt.show()"
   ]
  },
  {
   "cell_type": "code",
   "execution_count": 16,
   "metadata": {},
   "outputs": [
    {
     "name": "stdout",
     "output_type": "stream",
     "text": [
      "1470/1470 [==============================] - 1s 736us/step\n",
      "Test accuracy: 0.9992980067646621\n",
      "Test Precision: 0.9989251934651763\n",
      "Test Recall: 0.9996558103515036\n",
      "Test confusion matrix:\n",
      "[[23741    25]\n",
      " [    8 23235]]\n"
     ]
    }
   ],
   "source": [
    "#Evaluate the model on the test set\n",
    "y_pred = model.predict(X_test).round().ravel()\n",
    "test_acc = accuracy_score(y_test, y_pred)\n",
    "precision = precision_score(y_test, y_pred)\n",
    "recall = recall_score(y_test, y_pred)\n",
    "test_cm = confusion_matrix(y_test, y_pred)\n",
    "print(\"Test accuracy:\", test_acc)\n",
    "print(\"Test Precision:\", precision)\n",
    "print(\"Test Recall:\", recall)\n",
    "print(\"Test confusion matrix:\")\n",
    "print(test_cm)"
   ]
  },
  {
   "cell_type": "code",
   "execution_count": 17,
   "metadata": {},
   "outputs": [],
   "source": [
    "#Create a binary label dataset from the test set for aif360\n",
    "test_df = pd.DataFrame(X_test.reshape(-1, 64*64))\n",
    "test_df[\"label\"] = y_test\n",
    "test_df[\"gender\"] = 0\n",
    "test_dataset = BinaryLabelDataset(favorable_label=1, unfavorable_label=0, df=test_df, label_names=[\"label\"], protected_attribute_names=[\"gender\"], unprivileged_protected_attributes=[0])"
   ]
  },
  {
   "cell_type": "code",
   "execution_count": 18,
   "metadata": {},
   "outputs": [
    {
     "name": "stdout",
     "output_type": "stream",
     "text": [
      "Accuracy: 1.0\n",
      "Equal opportunity difference: nan\n",
      "Average odds difference: nan\n",
      "Theil index: 0.0\n"
     ]
    },
    {
     "name": "stderr",
     "output_type": "stream",
     "text": [
      "/home/megatron/miniconda3/envs/tf/lib/python3.9/site-packages/aif360/metrics/classification_metric.py:278: RuntimeWarning: invalid value encountered in double_scalars\n",
      "  TPR=TP / P, TNR=TN / N, FPR=FP / N, FNR=FN / P,\n",
      "/home/megatron/miniconda3/envs/tf/lib/python3.9/site-packages/aif360/metrics/classification_metric.py:279: RuntimeWarning: invalid value encountered in double_scalars\n",
      "  GTPR=GTP / P, GTNR=GTN / N, GFPR=GFP / N, GFNR=GFN / P,\n"
     ]
    }
   ],
   "source": [
    "# Compute the classification metrics for the test set\n",
    "metric_classifier = ClassificationMetric(test_dataset, test_dataset.copy(), unprivileged_groups=[{\"gender\": 0}], privileged_groups=[{\"gender\": 1}])\n",
    "print(\"Accuracy:\", metric_classifier.accuracy())\n",
    "#print(\"Balanced accuracy:\", metric_classifier.balanced_accuracy())\n",
    "print(\"Equal opportunity difference:\", metric_classifier.equal_opportunity_difference())\n",
    "print(\"Average odds difference:\", metric_classifier.average_odds_difference())\n",
    "print(\"Theil index:\", metric_classifier.theil_index())"
   ]
  }
 ],
 "metadata": {
  "kernelspec": {
   "display_name": "tf",
   "language": "python",
   "name": "python3"
  },
  "language_info": {
   "codemirror_mode": {
    "name": "ipython",
    "version": 3
   },
   "file_extension": ".py",
   "mimetype": "text/x-python",
   "name": "python",
   "nbconvert_exporter": "python",
   "pygments_lexer": "ipython3",
   "version": "3.9.16"
  },
  "orig_nbformat": 4
 },
 "nbformat": 4,
 "nbformat_minor": 2
}
