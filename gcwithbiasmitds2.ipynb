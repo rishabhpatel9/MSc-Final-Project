{
 "cells": [
  {
   "cell_type": "code",
   "execution_count": 2,
   "metadata": {},
   "outputs": [],
   "source": [
    "import numpy as np\n",
    "import pandas as pd\n",
    "import cv2\n",
    "import os\n",
    "import matplotlib.pyplot as plt\n",
    "from sklearn.model_selection import train_test_split\n",
    "from sklearn.metrics import accuracy_score, confusion_matrix, precision_score, recall_score\n",
    "import tensorflow as tf\n",
    "from tensorflow.keras.models import Sequential # type: ignore\n",
    "from tensorflow.keras.layers import Conv2D, MaxPooling2D, Flatten, Dense, Dropout # type: ignore\n",
    "from tensorflow.keras.callbacks import EarlyStopping # type: ignore\n",
    "from aif360.datasets import BinaryLabelDataset\n",
    "from aif360.metrics import BinaryLabelDatasetMetric, ClassificationMetric\n",
    "from aif360.algorithms.preprocessing import Reweighing"
   ]
  },
  {
   "cell_type": "code",
   "execution_count": 3,
   "metadata": {},
   "outputs": [
    {
     "name": "stderr",
     "output_type": "stream",
     "text": [
      "2023-08-04 23:13:50.926294: I tensorflow/compiler/xla/stream_executor/cuda/cuda_gpu_executor.cc:996] successful NUMA node read from SysFS had negative value (-1), but there must be at least one NUMA node, so returning NUMA node zero. See more at https://github.com/torvalds/linux/blob/v6.0/Documentation/ABI/testing/sysfs-bus-pci#L344-L355\n",
      "2023-08-04 23:13:51.050949: I tensorflow/compiler/xla/stream_executor/cuda/cuda_gpu_executor.cc:996] successful NUMA node read from SysFS had negative value (-1), but there must be at least one NUMA node, so returning NUMA node zero. See more at https://github.com/torvalds/linux/blob/v6.0/Documentation/ABI/testing/sysfs-bus-pci#L344-L355\n",
      "2023-08-04 23:13:51.051330: I tensorflow/compiler/xla/stream_executor/cuda/cuda_gpu_executor.cc:996] successful NUMA node read from SysFS had negative value (-1), but there must be at least one NUMA node, so returning NUMA node zero. See more at https://github.com/torvalds/linux/blob/v6.0/Documentation/ABI/testing/sysfs-bus-pci#L344-L355\n"
     ]
    }
   ],
   "source": [
    "#limit VRAM usage\n",
    "gpus = tf.config.experimental.list_physical_devices('GPU')\n",
    "for gpu in gpus:\n",
    "    tf.config.experimental.set_memory_growth(gpu, True)"
   ]
  },
  {
   "cell_type": "code",
   "execution_count": 4,
   "metadata": {},
   "outputs": [],
   "source": [
    "#Load the dataset and create a dataframe with image paths and labels\n",
    "dataset_path = \"datasets/dataset2/\"\n",
    "images = []\n",
    "labels = []\n",
    "for folder in os.listdir(dataset_path):\n",
    "    if os.path.isdir(os.path.join(dataset_path, folder)):\n",
    "        for file in os.listdir(os.path.join(dataset_path, folder)):\n",
    "            if file.endswith((\".jpg\", \".jpeg\", \".png\")):\n",
    "                images.append(os.path.join(dataset_path, folder, file))\n",
    "                labels.append(folder)\n",
    "df = pd.DataFrame({\"image\": images, \"label\": labels})"
   ]
  },
  {
   "cell_type": "code",
   "execution_count": 5,
   "metadata": {},
   "outputs": [],
   "source": [
    "# Define a function to preprocess the images: resize, grayscale, histogram equalization\n",
    "def preprocess_image(image_path):\n",
    "  image = cv2.imread(image_path)\n",
    "  image = cv2.resize(image, (64, 64))\n",
    "  image = cv2.cvtColor(image, cv2.COLOR_BGR2GRAY)\n",
    "  image = cv2.equalizeHist(image)\n",
    "  image = image / 255.0\n",
    "  image = np.expand_dims(image, axis=2)\n",
    "  return image"
   ]
  },
  {
   "cell_type": "code",
   "execution_count": 8,
   "metadata": {},
   "outputs": [
    {
     "name": "stderr",
     "output_type": "stream",
     "text": [
      "libpng warning: iCCP: known incorrect sRGB profile\n",
      "libpng warning: iCCP: known incorrect sRGB profile\n",
      "libpng warning: iCCP: known incorrect sRGB profile\n",
      "libpng warning: iCCP: known incorrect sRGB profile\n",
      "libpng warning: iCCP: known incorrect sRGB profile\n",
      "libpng warning: iCCP: known incorrect sRGB profile\n",
      "libpng warning: iCCP: known incorrect sRGB profile\n",
      "libpng warning: iCCP: known incorrect sRGB profile\n",
      "Corrupt JPEG data: 6 extraneous bytes before marker 0xed\n",
      "Corrupt JPEG data: 6 extraneous bytes before marker 0xed\n",
      "Corrupt JPEG data: 5 extraneous bytes before marker 0xee\n",
      "libpng warning: iCCP: known incorrect sRGB profile\n"
     ]
    }
   ],
   "source": [
    "#Apply the preprocessing function to the images and convert the labels to numeric values\n",
    "X = np.array([preprocess_image(image) for image in df[\"image\"]])\n",
    "y = np.array([0 if label == \"male\" else 1 for label in df[\"label\"]])"
   ]
  },
  {
   "cell_type": "code",
   "execution_count": 9,
   "metadata": {},
   "outputs": [],
   "source": [
    "#Split the data into train and test sets\n",
    "X_train, X_test, y_train, y_test = train_test_split(X, y, test_size=0.2, random_state=42)"
   ]
  },
  {
   "cell_type": "code",
   "execution_count": 10,
   "metadata": {},
   "outputs": [],
   "source": [
    "#Create a binary label dataset from the train set for aif360\n",
    "train_df = pd.DataFrame(X_train.reshape(-1, 64*64))\n",
    "train_df[\"label\"] = y_train\n",
    "train_df[\"gender\"] = 0\n",
    "train_dataset = BinaryLabelDataset(favorable_label=1, unfavorable_label=0, df=train_df, label_names=[\"label\"], protected_attribute_names=[\"gender\"], unprivileged_protected_attributes=[0])"
   ]
  },
  {
   "cell_type": "code",
   "execution_count": 11,
   "metadata": {},
   "outputs": [
    {
     "name": "stdout",
     "output_type": "stream",
     "text": [
      "Disparate impact: nan\n",
      "Statistical parity difference: nan\n"
     ]
    },
    {
     "name": "stderr",
     "output_type": "stream",
     "text": [
      "/home/megatron/miniconda3/envs/tf/lib/python3.9/site-packages/aif360/metrics/binary_label_dataset_metric.py:105: RuntimeWarning: invalid value encountered in double_scalars\n",
      "  return (self.num_positives(privileged=privileged)\n"
     ]
    }
   ],
   "source": [
    "#Compute the disparate impact and statistical parity difference metrics for the train set\n",
    "metric_dataset = BinaryLabelDatasetMetric(train_dataset, unprivileged_groups=[{\"gender\": 0}], privileged_groups=[{\"gender\": 1}])\n",
    "print(\"Disparate impact:\", metric_dataset.disparate_impact())\n",
    "print(\"Statistical parity difference:\", metric_dataset.statistical_parity_difference())"
   ]
  },
  {
   "cell_type": "code",
   "execution_count": 12,
   "metadata": {},
   "outputs": [
    {
     "name": "stdout",
     "output_type": "stream",
     "text": [
      "Disparate impact after reweighing: nan\n",
      "Statistical parity difference after reweighing: nan\n"
     ]
    },
    {
     "name": "stderr",
     "output_type": "stream",
     "text": [
      "/home/megatron/miniconda3/envs/tf/lib/python3.9/site-packages/aif360/algorithms/preprocessing/reweighing.py:66: RuntimeWarning: invalid value encountered in double_scalars\n",
      "  self.w_p_fav = n_fav*n_p / (n*n_p_fav)\n",
      "/home/megatron/miniconda3/envs/tf/lib/python3.9/site-packages/aif360/algorithms/preprocessing/reweighing.py:67: RuntimeWarning: invalid value encountered in double_scalars\n",
      "  self.w_p_unfav = n_unfav*n_p / (n*n_p_unfav)\n",
      "/home/megatron/miniconda3/envs/tf/lib/python3.9/site-packages/aif360/algorithms/preprocessing/reweighing.py:69: RuntimeWarning: invalid value encountered in double_scalars\n",
      "  self.w_up_unfav = n_unfav*n_up / (n*n_up_unfav)\n"
     ]
    }
   ],
   "source": [
    "#Apply the reweighing algorithm to mitigate bias in the train set\n",
    "RW = Reweighing(unprivileged_groups=[{\"gender\": 0}], privileged_groups=[{\"gender\": 1}])\n",
    "train_dataset_rw = RW.fit_transform(train_dataset)\n",
    "\n",
    "#Compute the metrics for the reweighted train set\n",
    "metric_dataset_rw = BinaryLabelDatasetMetric(train_dataset_rw, unprivileged_groups=[{\"gender\": 0}], privileged_groups=[{\"gender\": 1}])\n",
    "print(\"Disparate impact after reweighing:\", metric_dataset_rw.disparate_impact())\n",
    "print(\"Statistical parity difference after reweighing:\", metric_dataset_rw.statistical_parity_difference())\n"
   ]
  },
  {
   "cell_type": "code",
   "execution_count": 13,
   "metadata": {},
   "outputs": [
    {
     "name": "stdout",
     "output_type": "stream",
     "text": [
      "(2616, 4097)\n",
      "10717752\n"
     ]
    }
   ],
   "source": [
    "print(train_dataset_rw.features.shape)\n",
    "print(train_dataset_rw.features.size)"
   ]
  },
  {
   "cell_type": "code",
   "execution_count": 14,
   "metadata": {},
   "outputs": [],
   "source": [
    "#Extract the features and labels from the reweighted train set\n",
    "X_train_rw = train_dataset_rw.features[:, :-1].reshape(-1, 64, 64, 1)\n",
    "y_train_rw = train_dataset_rw.labels.ravel()"
   ]
  },
  {
   "cell_type": "code",
   "execution_count": 15,
   "metadata": {},
   "outputs": [
    {
     "name": "stderr",
     "output_type": "stream",
     "text": [
      "2023-08-04 23:16:32.587506: I tensorflow/compiler/xla/stream_executor/cuda/cuda_gpu_executor.cc:996] successful NUMA node read from SysFS had negative value (-1), but there must be at least one NUMA node, so returning NUMA node zero. See more at https://github.com/torvalds/linux/blob/v6.0/Documentation/ABI/testing/sysfs-bus-pci#L344-L355\n"
     ]
    },
    {
     "name": "stdout",
     "output_type": "stream",
     "text": [
      "Model: \"sequential\"\n",
      "_________________________________________________________________\n",
      " Layer (type)                Output Shape              Param #   \n",
      "=================================================================\n",
      " conv2d (Conv2D)             (None, 62, 62, 32)        320       \n",
      "                                                                 \n",
      " max_pooling2d (MaxPooling2D  (None, 31, 31, 32)       0         \n",
      " )                                                               \n",
      "                                                                 \n",
      " conv2d_1 (Conv2D)           (None, 29, 29, 64)        18496     \n",
      "                                                                 \n",
      " max_pooling2d_1 (MaxPooling  (None, 14, 14, 64)       0         \n",
      " 2D)                                                             \n",
      "                                                                 \n",
      " conv2d_2 (Conv2D)           (None, 12, 12, 128)       73856     \n",
      "                                                                 \n",
      " max_pooling2d_2 (MaxPooling  (None, 6, 6, 128)        0         \n",
      " 2D)                                                             \n",
      "                                                                 \n",
      " flatten (Flatten)           (None, 4608)              0         \n",
      "                                                                 \n",
      " dense (Dense)               (None, 256)               1179904   \n",
      "                                                                 \n",
      " dropout (Dropout)           (None, 256)               0         \n",
      "                                                                 \n",
      " dense_1 (Dense)             (None, 1)                 257       \n",
      "                                                                 \n",
      "=================================================================\n",
      "Total params: 1,272,833\n",
      "Trainable params: 1,272,833\n",
      "Non-trainable params: 0\n",
      "_________________________________________________________________\n"
     ]
    },
    {
     "name": "stderr",
     "output_type": "stream",
     "text": [
      "2023-08-04 23:16:32.587766: I tensorflow/compiler/xla/stream_executor/cuda/cuda_gpu_executor.cc:996] successful NUMA node read from SysFS had negative value (-1), but there must be at least one NUMA node, so returning NUMA node zero. See more at https://github.com/torvalds/linux/blob/v6.0/Documentation/ABI/testing/sysfs-bus-pci#L344-L355\n",
      "2023-08-04 23:16:32.587884: I tensorflow/compiler/xla/stream_executor/cuda/cuda_gpu_executor.cc:996] successful NUMA node read from SysFS had negative value (-1), but there must be at least one NUMA node, so returning NUMA node zero. See more at https://github.com/torvalds/linux/blob/v6.0/Documentation/ABI/testing/sysfs-bus-pci#L344-L355\n",
      "2023-08-04 23:16:33.424455: I tensorflow/compiler/xla/stream_executor/cuda/cuda_gpu_executor.cc:996] successful NUMA node read from SysFS had negative value (-1), but there must be at least one NUMA node, so returning NUMA node zero. See more at https://github.com/torvalds/linux/blob/v6.0/Documentation/ABI/testing/sysfs-bus-pci#L344-L355\n",
      "2023-08-04 23:16:33.424632: I tensorflow/compiler/xla/stream_executor/cuda/cuda_gpu_executor.cc:996] successful NUMA node read from SysFS had negative value (-1), but there must be at least one NUMA node, so returning NUMA node zero. See more at https://github.com/torvalds/linux/blob/v6.0/Documentation/ABI/testing/sysfs-bus-pci#L344-L355\n",
      "2023-08-04 23:16:33.424764: I tensorflow/compiler/xla/stream_executor/cuda/cuda_gpu_executor.cc:996] successful NUMA node read from SysFS had negative value (-1), but there must be at least one NUMA node, so returning NUMA node zero. See more at https://github.com/torvalds/linux/blob/v6.0/Documentation/ABI/testing/sysfs-bus-pci#L344-L355\n",
      "2023-08-04 23:16:33.424857: I tensorflow/core/common_runtime/gpu/gpu_device.cc:1635] Created device /job:localhost/replica:0/task:0/device:GPU:0 with 7270 MB memory:  -> device: 0, name: NVIDIA GeForce RTX 3080, pci bus id: 0000:07:00.0, compute capability: 8.6\n"
     ]
    }
   ],
   "source": [
    "model = Sequential()\n",
    "\n",
    "model.add(Conv2D(32, (3, 3), activation=\"relu\", input_shape=(64, 64, 1)))\n",
    "model.add(MaxPooling2D((2, 2)))\n",
    "\n",
    "model.add(Conv2D(64, (3, 3), activation=\"relu\"))\n",
    "model.add(MaxPooling2D((2, 2)))\n",
    "\n",
    "model.add(Conv2D(128, (3, 3), activation=\"relu\"))\n",
    "model.add(MaxPooling2D((2, 2)))\n",
    "\n",
    "model.add(Flatten())\n",
    "\n",
    "model.add(Dense(256, activation=\"relu\"))\n",
    "model.add(Dropout(0.5))\n",
    "model.add(Dense(1, activation=\"sigmoid\"))\n",
    "model.summary()"
   ]
  },
  {
   "cell_type": "code",
   "execution_count": 16,
   "metadata": {},
   "outputs": [
    {
     "name": "stdout",
     "output_type": "stream",
     "text": [
      "Epoch 1/50\n"
     ]
    },
    {
     "name": "stderr",
     "output_type": "stream",
     "text": [
      "2023-08-04 23:16:35.536268: I tensorflow/compiler/xla/stream_executor/cuda/cuda_dnn.cc:424] Loaded cuDNN version 8600\n",
      "2023-08-04 23:16:36.746214: I tensorflow/compiler/xla/stream_executor/cuda/cuda_blas.cc:637] TensorFloat-32 will be used for the matrix multiplication. This will only be logged once.\n",
      "2023-08-04 23:16:36.784375: I tensorflow/compiler/xla/service/service.cc:169] XLA service 0x7f54b1924f90 initialized for platform CUDA (this does not guarantee that XLA will be used). Devices:\n",
      "2023-08-04 23:16:36.784393: I tensorflow/compiler/xla/service/service.cc:177]   StreamExecutor device (0): NVIDIA GeForce RTX 3080, Compute Capability 8.6\n",
      "2023-08-04 23:16:36.833260: I tensorflow/compiler/mlir/tensorflow/utils/dump_mlir_util.cc:269] disabling MLIR crash reproducer, set env var `MLIR_CRASH_REPRODUCER_DIRECTORY` to enable.\n",
      "2023-08-04 23:16:37.153970: I ./tensorflow/compiler/jit/device_compiler.h:180] Compiled cluster using XLA!  This line is logged at most once for the lifetime of the process.\n"
     ]
    },
    {
     "name": "stdout",
     "output_type": "stream",
     "text": [
      "82/82 [==============================] - 5s 7ms/step - loss: 0.0103 - accuracy: 0.9973 - val_loss: 1.7407e-36 - val_accuracy: 1.0000\n",
      "Epoch 2/50\n",
      "82/82 [==============================] - 0s 3ms/step - loss: 3.2996e-29 - accuracy: 1.0000 - val_loss: 1.6301e-36 - val_accuracy: 1.0000\n",
      "Epoch 3/50\n",
      "82/82 [==============================] - 0s 3ms/step - loss: 8.2613e-26 - accuracy: 1.0000 - val_loss: 1.6301e-36 - val_accuracy: 1.0000\n",
      "Epoch 4/50\n",
      "82/82 [==============================] - 0s 3ms/step - loss: 5.5630e-27 - accuracy: 1.0000 - val_loss: 1.6301e-36 - val_accuracy: 1.0000\n",
      "Epoch 5/50\n",
      "82/82 [==============================] - 0s 3ms/step - loss: 2.8813e-29 - accuracy: 1.0000 - val_loss: 1.6301e-36 - val_accuracy: 1.0000\n",
      "Epoch 6/50\n",
      "82/82 [==============================] - 0s 3ms/step - loss: 1.5289e-29 - accuracy: 1.0000 - val_loss: 1.6301e-36 - val_accuracy: 1.0000\n",
      "Epoch 7/50\n",
      "82/82 [==============================] - 0s 3ms/step - loss: 3.2629e-28 - accuracy: 1.0000 - val_loss: 1.6301e-36 - val_accuracy: 1.0000\n"
     ]
    }
   ],
   "source": [
    "#Compile and fit the model on the reweighted train set\n",
    "model.compile(optimizer=\"adam\", loss=\"binary_crossentropy\", metrics=[\"accuracy\"])\n",
    "early_stopping = EarlyStopping(monitor=\"val_loss\", patience=5)\n",
    "history = model.fit(X_train_rw, y_train_rw, batch_size=32, epochs=50,\n",
    "                    validation_data=(X_test, y_test), callbacks=[early_stopping])"
   ]
  },
  {
   "cell_type": "code",
   "execution_count": 17,
   "metadata": {},
   "outputs": [
    {
     "data": {
      "image/png": "[encoded data removed]",
      "text/plain": [
       "<Figure size 1200x600 with 2 Axes>"
      ]
     },
     "metadata": {},
     "output_type": "display_data"
    }
   ],
   "source": [
    "#Plot the training and validation accuracy and loss curves\n",
    "plt.figure(figsize=(12,6))\n",
    "plt.subplot(1,2,1)\n",
    "plt.plot(history.history[\"accuracy\"], label=\"train accuracy\")\n",
    "plt.plot(history.history[\"val_accuracy\"], label=\"validation accuracy\")\n",
    "plt.xlabel(\"Epoch\")\n",
    "plt.ylabel(\"Accuracy\")\n",
    "plt.legend()\n",
    "plt.subplot(1,2,2)\n",
    "plt.plot(history.history[\"loss\"], label=\"train loss\")\n",
    "plt.plot(history.history[\"val_loss\"], label=\"validation loss\")\n",
    "plt.xlabel(\"Epoch\")\n",
    "plt.ylabel(\"Loss\")\n",
    "plt.legend()\n",
    "plt.show()"
   ]
  },
  {
   "cell_type": "code",
   "execution_count": 18,
   "metadata": {},
   "outputs": [
    {
     "name": "stdout",
     "output_type": "stream",
     "text": [
      "21/21 [==============================] - 0s 767us/step\n",
      "Test accuracy: 1.0\n",
      "Test Precision: 1.0\n",
      "Test Recall: 1.0\n",
      "Test confusion matrix:\n",
      "[[655]]\n"
     ]
    }
   ],
   "source": [
    "#Evaluate the model on the test set\n",
    "y_pred = model.predict(X_test).round().ravel()\n",
    "test_acc = accuracy_score(y_test, y_pred)\n",
    "precision = precision_score(y_test, y_pred)\n",
    "recall = recall_score(y_test, y_pred)\n",
    "test_cm = confusion_matrix(y_test, y_pred)\n",
    "print(\"Test accuracy:\", test_acc)\n",
    "print(\"Test Precision:\", precision)\n",
    "print(\"Test Recall:\", recall)\n",
    "print(\"Test confusion matrix:\")\n",
    "print(test_cm)"
   ]
  },
  {
   "cell_type": "code",
   "execution_count": 19,
   "metadata": {},
   "outputs": [],
   "source": [
    "#Create a binary label dataset from the test set for aif360\n",
    "test_df = pd.DataFrame(X_test.reshape(-1, 64*64))\n",
    "test_df[\"label\"] = y_test\n",
    "test_df[\"gender\"] = 0\n",
    "test_dataset = BinaryLabelDataset(favorable_label=1, unfavorable_label=0, df=test_df, label_names=[\"label\"], protected_attribute_names=[\"gender\"], unprivileged_protected_attributes=[0])"
   ]
  },
  {
   "cell_type": "code",
   "execution_count": 20,
   "metadata": {},
   "outputs": [
    {
     "name": "stdout",
     "output_type": "stream",
     "text": [
      "Accuracy: 1.0\n",
      "Equal opportunity difference: nan\n",
      "Average odds difference: nan\n",
      "Theil index: 0.0\n"
     ]
    },
    {
     "name": "stderr",
     "output_type": "stream",
     "text": [
      "/home/megatron/miniconda3/envs/tf/lib/python3.9/site-packages/aif360/metrics/classification_metric.py:278: RuntimeWarning: invalid value encountered in double_scalars\n",
      "  TPR=TP / P, TNR=TN / N, FPR=FP / N, FNR=FN / P,\n",
      "/home/megatron/miniconda3/envs/tf/lib/python3.9/site-packages/aif360/metrics/classification_metric.py:279: RuntimeWarning: invalid value encountered in double_scalars\n",
      "  GTPR=GTP / P, GTNR=GTN / N, GFPR=GFP / N, GFNR=GFN / P,\n"
     ]
    }
   ],
   "source": [
    "# Compute the classification metrics for the test set\n",
    "metric_classifier = ClassificationMetric(test_dataset,\n",
    "                                         test_dataset.copy(),\n",
    "                                         unprivileged_groups=[{\"gender\": 0}],\n",
    "                                         privileged_groups=[{\"gender\": 1}])\n",
    "print(\"Accuracy:\", metric_classifier.accuracy())\n",
    "print(\"Equal opportunity difference:\", metric_classifier.equal_opportunity_difference())\n",
    "print(\"Average odds difference:\", metric_classifier.average_odds_difference())\n",
    "print(\"Theil index:\", metric_classifier.theil_index())"
   ]
  },
  {
   "cell_type": "code",
   "execution_count": 21,
   "metadata": {},
   "outputs": [],
   "source": [
    "# Compute the classification metrics for the test set\n",
    "#metric_classifier = ClassificationMetric(test_dataset,\n",
    "#                                         test_dataset.copy(),\n",
    "#                                         unprivileged_groups=[{\"gender\": 0}],\n",
    "#                                         privileged_groups=[{\"gender\": 1}])\n",
    "#print(\"Balanced accuracy:\", metric_classifier.balanced_accuracy())\n",
    "#print(\"Equal opportunity difference:\", metric_classifier.equal_opportunity_difference())\n",
    "#print(\"Average odds difference:\", metric_classifier.average_odds_difference())\n",
    "#print(\"Theil index:\", metric_classifier.theil_index())"
   ]
  }
 ],
 "metadata": {
  "kernelspec": {
   "display_name": "tf",
   "language": "python",
   "name": "python3"
  },
  "language_info": {
   "codemirror_mode": {
    "name": "ipython",
    "version": 3
   },
   "file_extension": ".py",
   "mimetype": "text/x-python",
   "name": "python",
   "nbconvert_exporter": "python",
   "pygments_lexer": "ipython3",
   "version": "3.9.16"
  },
  "orig_nbformat": 4
 },
 "nbformat": 4,
 "nbformat_minor": 2
}
